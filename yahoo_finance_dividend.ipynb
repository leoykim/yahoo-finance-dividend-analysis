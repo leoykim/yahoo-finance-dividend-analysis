{
  "nbformat": 4,
  "nbformat_minor": 0,
  "metadata": {
    "colab": {
      "name": "yahoo finance-dividend.ipynb",
      "provenance": [],
      "collapsed_sections": [],
      "authorship_tag": "ABX9TyOrm4leHGqe750aDHfs5HSN",
      "include_colab_link": true
    },
    "kernelspec": {
      "name": "python3",
      "display_name": "Python 3"
    },
    "language_info": {
      "name": "python"
    }
  },
  "cells": [
    {
      "cell_type": "markdown",
      "metadata": {
        "id": "view-in-github",
        "colab_type": "text"
      },
      "source": [
        "<a href=\"https://colab.research.google.com/github/leoykim/yahoo-finance-dividend-analysis/blob/main/yahoo_finance_dividend.ipynb\" target=\"_parent\"><img src=\"https://colab.research.google.com/assets/colab-badge.svg\" alt=\"Open In Colab\"/></a>"
      ]
    },
    {
      "cell_type": "code",
      "source": [
        "!pip install yfinance"
      ],
      "metadata": {
        "id": "X6vHF-0I0HHg"
      },
      "execution_count": null,
      "outputs": []
    },
    {
      "cell_type": "code",
      "source": [
        "#import\n",
        "import yfinance as yf\n",
        "import matplotlib.pyplot as plt\n",
        "import plotly.express as px\n",
        "import pandas as pd\n",
        "import plotly.graph_objects as go"
      ],
      "metadata": {
        "id": "2yjHgwep0PgA"
      },
      "execution_count": null,
      "outputs": []
    },
    {
      "cell_type": "code",
      "execution_count": null,
      "metadata": {
        "colab": {
          "base_uri": "https://localhost:8080/",
          "height": 434
        },
        "id": "XLX2wIdVKcRx",
        "outputId": "c315db3c-3602-458b-c845-a00fb2b97b77"
      },
      "outputs": [
        {
          "name": "stdout",
          "output_type": "stream",
          "text": [
            "Enter stock ticker symbol: sbux\n"
          ]
        },
        {
          "output_type": "display_data",
          "data": {
            "text/html": [
              "<html>\n",
              "<head><meta charset=\"utf-8\" /></head>\n",
              "<body>\n",
              "    <div>            <script src=\"https://cdnjs.cloudflare.com/ajax/libs/mathjax/2.7.5/MathJax.js?config=TeX-AMS-MML_SVG\"></script><script type=\"text/javascript\">if (window.MathJax) {MathJax.Hub.Config({SVG: {font: \"STIX-Web\"}});}</script>                <script type=\"text/javascript\">window.PlotlyConfig = {MathJaxConfig: 'local'};</script>\n",
              "        <script src=\"https://cdn.plot.ly/plotly-2.8.3.min.js\"></script>                <div id=\"771b7222-a137-4ae2-b0c6-b869b0865786\" class=\"plotly-graph-div\" style=\"height:400px; width:600px;\"></div>            <script type=\"text/javascript\">                                    window.PLOTLYENV=window.PLOTLYENV || {};                                    if (document.getElementById(\"771b7222-a137-4ae2-b0c6-b869b0865786\")) {                    Plotly.newPlot(                        \"771b7222-a137-4ae2-b0c6-b869b0865786\",                        [{\"mode\":\"lines+markers\",\"name\":\"Div PMT\",\"x\":[\"2010-04-05T00:00:00\",\"2010-08-02T00:00:00\",\"2010-11-16T00:00:00\",\"2011-02-07T00:00:00\",\"2011-05-09T00:00:00\",\"2011-08-08T00:00:00\",\"2011-11-15T00:00:00\",\"2012-02-06T00:00:00\",\"2012-05-07T00:00:00\",\"2012-08-06T00:00:00\",\"2012-11-13T00:00:00\",\"2013-02-05T00:00:00\",\"2013-05-07T00:00:00\",\"2013-08-06T00:00:00\",\"2013-11-12T00:00:00\",\"2014-02-04T00:00:00\",\"2014-05-06T00:00:00\",\"2014-08-05T00:00:00\",\"2014-11-10T00:00:00\",\"2015-02-03T00:00:00\",\"2015-05-05T00:00:00\",\"2015-08-04T00:00:00\",\"2015-11-09T00:00:00\",\"2016-02-02T00:00:00\",\"2016-05-03T00:00:00\",\"2016-08-02T00:00:00\",\"2016-11-15T00:00:00\",\"2017-02-07T00:00:00\",\"2017-05-09T00:00:00\",\"2017-08-08T00:00:00\",\"2017-11-15T00:00:00\",\"2018-02-07T00:00:00\",\"2018-05-09T00:00:00\",\"2018-08-08T00:00:00\",\"2018-11-14T00:00:00\",\"2019-02-06T00:00:00\",\"2019-05-08T00:00:00\",\"2019-08-07T00:00:00\",\"2019-11-12T00:00:00\",\"2020-02-05T00:00:00\",\"2020-05-07T00:00:00\",\"2020-08-06T00:00:00\",\"2020-11-10T00:00:00\",\"2021-02-17T00:00:00\",\"2021-05-12T00:00:00\",\"2021-08-11T00:00:00\",\"2021-11-10T00:00:00\",\"2022-02-10T00:00:00\",\"2022-05-12T00:00:00\",\"2022-08-11T00:00:00\"],\"y\":[0.05,0.065,0.065,0.065,0.065,0.065,0.085,0.085,0.085,0.085,0.105,0.105,0.105,0.105,0.13,0.13,0.13,0.13,0.16,0.16,0.16,0.16,0.2,0.2,0.2,0.2,0.25,0.25,0.25,0.25,0.3,0.3,0.3,0.36,0.36,0.36,0.36,0.36,0.41,0.41,0.41,0.41,0.45,0.45,0.45,0.45,0.49,0.49,0.49,0.49],\"type\":\"scatter\",\"xaxis\":\"x\",\"yaxis\":\"y\"},{\"mode\":\"lines+markers\",\"name\":\"Div Yield (%)\",\"x\":[\"2010-04-05T00:00:00\",\"2010-08-02T00:00:00\",\"2010-11-16T00:00:00\",\"2011-02-07T00:00:00\",\"2011-05-09T00:00:00\",\"2011-08-08T00:00:00\",\"2011-11-15T00:00:00\",\"2012-02-06T00:00:00\",\"2012-05-07T00:00:00\",\"2012-08-06T00:00:00\",\"2012-11-13T00:00:00\",\"2013-02-05T00:00:00\",\"2013-05-07T00:00:00\",\"2013-08-06T00:00:00\",\"2013-11-12T00:00:00\",\"2014-02-04T00:00:00\",\"2014-05-06T00:00:00\",\"2014-08-05T00:00:00\",\"2014-11-10T00:00:00\",\"2015-02-03T00:00:00\",\"2015-05-05T00:00:00\",\"2015-08-04T00:00:00\",\"2015-11-09T00:00:00\",\"2016-02-02T00:00:00\",\"2016-05-03T00:00:00\",\"2016-08-02T00:00:00\",\"2016-11-15T00:00:00\",\"2017-02-07T00:00:00\",\"2017-05-09T00:00:00\",\"2017-08-08T00:00:00\",\"2017-11-15T00:00:00\",\"2018-02-07T00:00:00\",\"2018-05-09T00:00:00\",\"2018-08-08T00:00:00\",\"2018-11-14T00:00:00\",\"2019-02-06T00:00:00\",\"2019-05-08T00:00:00\",\"2019-08-07T00:00:00\",\"2019-11-12T00:00:00\",\"2020-02-05T00:00:00\",\"2020-05-07T00:00:00\",\"2020-08-06T00:00:00\",\"2020-11-10T00:00:00\",\"2021-02-17T00:00:00\",\"2021-05-12T00:00:00\",\"2021-08-11T00:00:00\",\"2021-11-10T00:00:00\",\"2022-02-10T00:00:00\",\"2022-05-12T00:00:00\",\"2022-08-11T00:00:00\"],\"y\":[2.003879619613435,2.5840657134091076,2.1281999821238227,1.9552425978909498,1.7449328706203109,1.844459489273095,1.8580095571973643,1.688141364595912,1.4648690296809956,1.8619200833601774,1.979535895247948,1.765437124976529,1.5900319153107345,1.3544418672025362,1.5095955722182344,1.7159195531795175,1.7359197794616497,1.5676550440551533,1.900203292065199,1.661364963524611,1.482978888528837,1.2448466076678655,1.4842814871351777,1.4950453567591935,1.6076950344605958,1.5885599251969005,2.05402728631829,2.0207525203326737,1.8230307427113088,2.029876061285928,2.329854962505422,2.4125986271387587,2.2914910657993794,3.021601129212153,2.311033814219964,2.238595943563907,1.9656068211079605,1.605086103528331,2.078706069342138,1.9688709345763147,2.2555989111412424,2.2534771381045986,1.983110790207066,1.7757963210176726,1.6825683540541172,1.5795275000133897,1.761691677459181,2.082731000533449,2.8199819824902823,2.245903604209342],\"type\":\"scatter\",\"xaxis\":\"x\",\"yaxis\":\"y2\"}],                        {\"template\":{\"data\":{\"bar\":[{\"error_x\":{\"color\":\"#2a3f5f\"},\"error_y\":{\"color\":\"#2a3f5f\"},\"marker\":{\"line\":{\"color\":\"#E5ECF6\",\"width\":0.5},\"pattern\":{\"fillmode\":\"overlay\",\"size\":10,\"solidity\":0.2}},\"type\":\"bar\"}],\"barpolar\":[{\"marker\":{\"line\":{\"color\":\"#E5ECF6\",\"width\":0.5},\"pattern\":{\"fillmode\":\"overlay\",\"size\":10,\"solidity\":0.2}},\"type\":\"barpolar\"}],\"carpet\":[{\"aaxis\":{\"endlinecolor\":\"#2a3f5f\",\"gridcolor\":\"white\",\"linecolor\":\"white\",\"minorgridcolor\":\"white\",\"startlinecolor\":\"#2a3f5f\"},\"baxis\":{\"endlinecolor\":\"#2a3f5f\",\"gridcolor\":\"white\",\"linecolor\":\"white\",\"minorgridcolor\":\"white\",\"startlinecolor\":\"#2a3f5f\"},\"type\":\"carpet\"}],\"choropleth\":[{\"colorbar\":{\"outlinewidth\":0,\"ticks\":\"\"},\"type\":\"choropleth\"}],\"contour\":[{\"colorbar\":{\"outlinewidth\":0,\"ticks\":\"\"},\"colorscale\":[[0.0,\"#0d0887\"],[0.1111111111111111,\"#46039f\"],[0.2222222222222222,\"#7201a8\"],[0.3333333333333333,\"#9c179e\"],[0.4444444444444444,\"#bd3786\"],[0.5555555555555556,\"#d8576b\"],[0.6666666666666666,\"#ed7953\"],[0.7777777777777778,\"#fb9f3a\"],[0.8888888888888888,\"#fdca26\"],[1.0,\"#f0f921\"]],\"type\":\"contour\"}],\"contourcarpet\":[{\"colorbar\":{\"outlinewidth\":0,\"ticks\":\"\"},\"type\":\"contourcarpet\"}],\"heatmap\":[{\"colorbar\":{\"outlinewidth\":0,\"ticks\":\"\"},\"colorscale\":[[0.0,\"#0d0887\"],[0.1111111111111111,\"#46039f\"],[0.2222222222222222,\"#7201a8\"],[0.3333333333333333,\"#9c179e\"],[0.4444444444444444,\"#bd3786\"],[0.5555555555555556,\"#d8576b\"],[0.6666666666666666,\"#ed7953\"],[0.7777777777777778,\"#fb9f3a\"],[0.8888888888888888,\"#fdca26\"],[1.0,\"#f0f921\"]],\"type\":\"heatmap\"}],\"heatmapgl\":[{\"colorbar\":{\"outlinewidth\":0,\"ticks\":\"\"},\"colorscale\":[[0.0,\"#0d0887\"],[0.1111111111111111,\"#46039f\"],[0.2222222222222222,\"#7201a8\"],[0.3333333333333333,\"#9c179e\"],[0.4444444444444444,\"#bd3786\"],[0.5555555555555556,\"#d8576b\"],[0.6666666666666666,\"#ed7953\"],[0.7777777777777778,\"#fb9f3a\"],[0.8888888888888888,\"#fdca26\"],[1.0,\"#f0f921\"]],\"type\":\"heatmapgl\"}],\"histogram\":[{\"marker\":{\"pattern\":{\"fillmode\":\"overlay\",\"size\":10,\"solidity\":0.2}},\"type\":\"histogram\"}],\"histogram2d\":[{\"colorbar\":{\"outlinewidth\":0,\"ticks\":\"\"},\"colorscale\":[[0.0,\"#0d0887\"],[0.1111111111111111,\"#46039f\"],[0.2222222222222222,\"#7201a8\"],[0.3333333333333333,\"#9c179e\"],[0.4444444444444444,\"#bd3786\"],[0.5555555555555556,\"#d8576b\"],[0.6666666666666666,\"#ed7953\"],[0.7777777777777778,\"#fb9f3a\"],[0.8888888888888888,\"#fdca26\"],[1.0,\"#f0f921\"]],\"type\":\"histogram2d\"}],\"histogram2dcontour\":[{\"colorbar\":{\"outlinewidth\":0,\"ticks\":\"\"},\"colorscale\":[[0.0,\"#0d0887\"],[0.1111111111111111,\"#46039f\"],[0.2222222222222222,\"#7201a8\"],[0.3333333333333333,\"#9c179e\"],[0.4444444444444444,\"#bd3786\"],[0.5555555555555556,\"#d8576b\"],[0.6666666666666666,\"#ed7953\"],[0.7777777777777778,\"#fb9f3a\"],[0.8888888888888888,\"#fdca26\"],[1.0,\"#f0f921\"]],\"type\":\"histogram2dcontour\"}],\"mesh3d\":[{\"colorbar\":{\"outlinewidth\":0,\"ticks\":\"\"},\"type\":\"mesh3d\"}],\"parcoords\":[{\"line\":{\"colorbar\":{\"outlinewidth\":0,\"ticks\":\"\"}},\"type\":\"parcoords\"}],\"pie\":[{\"automargin\":true,\"type\":\"pie\"}],\"scatter\":[{\"marker\":{\"colorbar\":{\"outlinewidth\":0,\"ticks\":\"\"}},\"type\":\"scatter\"}],\"scatter3d\":[{\"line\":{\"colorbar\":{\"outlinewidth\":0,\"ticks\":\"\"}},\"marker\":{\"colorbar\":{\"outlinewidth\":0,\"ticks\":\"\"}},\"type\":\"scatter3d\"}],\"scattercarpet\":[{\"marker\":{\"colorbar\":{\"outlinewidth\":0,\"ticks\":\"\"}},\"type\":\"scattercarpet\"}],\"scattergeo\":[{\"marker\":{\"colorbar\":{\"outlinewidth\":0,\"ticks\":\"\"}},\"type\":\"scattergeo\"}],\"scattergl\":[{\"marker\":{\"colorbar\":{\"outlinewidth\":0,\"ticks\":\"\"}},\"type\":\"scattergl\"}],\"scattermapbox\":[{\"marker\":{\"colorbar\":{\"outlinewidth\":0,\"ticks\":\"\"}},\"type\":\"scattermapbox\"}],\"scatterpolar\":[{\"marker\":{\"colorbar\":{\"outlinewidth\":0,\"ticks\":\"\"}},\"type\":\"scatterpolar\"}],\"scatterpolargl\":[{\"marker\":{\"colorbar\":{\"outlinewidth\":0,\"ticks\":\"\"}},\"type\":\"scatterpolargl\"}],\"scatterternary\":[{\"marker\":{\"colorbar\":{\"outlinewidth\":0,\"ticks\":\"\"}},\"type\":\"scatterternary\"}],\"surface\":[{\"colorbar\":{\"outlinewidth\":0,\"ticks\":\"\"},\"colorscale\":[[0.0,\"#0d0887\"],[0.1111111111111111,\"#46039f\"],[0.2222222222222222,\"#7201a8\"],[0.3333333333333333,\"#9c179e\"],[0.4444444444444444,\"#bd3786\"],[0.5555555555555556,\"#d8576b\"],[0.6666666666666666,\"#ed7953\"],[0.7777777777777778,\"#fb9f3a\"],[0.8888888888888888,\"#fdca26\"],[1.0,\"#f0f921\"]],\"type\":\"surface\"}],\"table\":[{\"cells\":{\"fill\":{\"color\":\"#EBF0F8\"},\"line\":{\"color\":\"white\"}},\"header\":{\"fill\":{\"color\":\"#C8D4E3\"},\"line\":{\"color\":\"white\"}},\"type\":\"table\"}]},\"layout\":{\"annotationdefaults\":{\"arrowcolor\":\"#2a3f5f\",\"arrowhead\":0,\"arrowwidth\":1},\"autotypenumbers\":\"strict\",\"coloraxis\":{\"colorbar\":{\"outlinewidth\":0,\"ticks\":\"\"}},\"colorscale\":{\"diverging\":[[0,\"#8e0152\"],[0.1,\"#c51b7d\"],[0.2,\"#de77ae\"],[0.3,\"#f1b6da\"],[0.4,\"#fde0ef\"],[0.5,\"#f7f7f7\"],[0.6,\"#e6f5d0\"],[0.7,\"#b8e186\"],[0.8,\"#7fbc41\"],[0.9,\"#4d9221\"],[1,\"#276419\"]],\"sequential\":[[0.0,\"#0d0887\"],[0.1111111111111111,\"#46039f\"],[0.2222222222222222,\"#7201a8\"],[0.3333333333333333,\"#9c179e\"],[0.4444444444444444,\"#bd3786\"],[0.5555555555555556,\"#d8576b\"],[0.6666666666666666,\"#ed7953\"],[0.7777777777777778,\"#fb9f3a\"],[0.8888888888888888,\"#fdca26\"],[1.0,\"#f0f921\"]],\"sequentialminus\":[[0.0,\"#0d0887\"],[0.1111111111111111,\"#46039f\"],[0.2222222222222222,\"#7201a8\"],[0.3333333333333333,\"#9c179e\"],[0.4444444444444444,\"#bd3786\"],[0.5555555555555556,\"#d8576b\"],[0.6666666666666666,\"#ed7953\"],[0.7777777777777778,\"#fb9f3a\"],[0.8888888888888888,\"#fdca26\"],[1.0,\"#f0f921\"]]},\"colorway\":[\"#636efa\",\"#EF553B\",\"#00cc96\",\"#ab63fa\",\"#FFA15A\",\"#19d3f3\",\"#FF6692\",\"#B6E880\",\"#FF97FF\",\"#FECB52\"],\"font\":{\"color\":\"#2a3f5f\"},\"geo\":{\"bgcolor\":\"white\",\"lakecolor\":\"white\",\"landcolor\":\"#E5ECF6\",\"showlakes\":true,\"showland\":true,\"subunitcolor\":\"white\"},\"hoverlabel\":{\"align\":\"left\"},\"hovermode\":\"closest\",\"mapbox\":{\"style\":\"light\"},\"paper_bgcolor\":\"white\",\"plot_bgcolor\":\"#E5ECF6\",\"polar\":{\"angularaxis\":{\"gridcolor\":\"white\",\"linecolor\":\"white\",\"ticks\":\"\"},\"bgcolor\":\"#E5ECF6\",\"radialaxis\":{\"gridcolor\":\"white\",\"linecolor\":\"white\",\"ticks\":\"\"}},\"scene\":{\"xaxis\":{\"backgroundcolor\":\"#E5ECF6\",\"gridcolor\":\"white\",\"gridwidth\":2,\"linecolor\":\"white\",\"showbackground\":true,\"ticks\":\"\",\"zerolinecolor\":\"white\"},\"yaxis\":{\"backgroundcolor\":\"#E5ECF6\",\"gridcolor\":\"white\",\"gridwidth\":2,\"linecolor\":\"white\",\"showbackground\":true,\"ticks\":\"\",\"zerolinecolor\":\"white\"},\"zaxis\":{\"backgroundcolor\":\"#E5ECF6\",\"gridcolor\":\"white\",\"gridwidth\":2,\"linecolor\":\"white\",\"showbackground\":true,\"ticks\":\"\",\"zerolinecolor\":\"white\"}},\"shapedefaults\":{\"line\":{\"color\":\"#2a3f5f\"}},\"ternary\":{\"aaxis\":{\"gridcolor\":\"white\",\"linecolor\":\"white\",\"ticks\":\"\"},\"baxis\":{\"gridcolor\":\"white\",\"linecolor\":\"white\",\"ticks\":\"\"},\"bgcolor\":\"#E5ECF6\",\"caxis\":{\"gridcolor\":\"white\",\"linecolor\":\"white\",\"ticks\":\"\"}},\"title\":{\"x\":0.05},\"xaxis\":{\"automargin\":true,\"gridcolor\":\"white\",\"linecolor\":\"white\",\"ticks\":\"\",\"title\":{\"standoff\":15},\"zerolinecolor\":\"white\",\"zerolinewidth\":2},\"yaxis\":{\"automargin\":true,\"gridcolor\":\"white\",\"linecolor\":\"white\",\"ticks\":\"\",\"title\":{\"standoff\":15},\"zerolinecolor\":\"white\",\"zerolinewidth\":2}}},\"xaxis\":{\"anchor\":\"y\",\"domain\":[0.0,0.94],\"title\":{\"text\":\"Pay Date\"}},\"yaxis\":{\"anchor\":\"x\",\"domain\":[0.0,1.0],\"title\":{\"text\":\"Div PMT\"}},\"yaxis2\":{\"anchor\":\"x\",\"overlaying\":\"y\",\"side\":\"right\",\"title\":{\"text\":\"Div Yield (%)\"}},\"title\":{\"text\":\"SBUX\"},\"margin\":{\"t\":40,\"b\":10},\"width\":600,\"height\":400},                        {\"responsive\": true}                    ).then(function(){\n",
              "                            \n",
              "var gd = document.getElementById('771b7222-a137-4ae2-b0c6-b869b0865786');\n",
              "var x = new MutationObserver(function (mutations, observer) {{\n",
              "        var display = window.getComputedStyle(gd).display;\n",
              "        if (!display || display === 'none') {{\n",
              "            console.log([gd, 'removed!']);\n",
              "            Plotly.purge(gd);\n",
              "            observer.disconnect();\n",
              "        }}\n",
              "}});\n",
              "\n",
              "// Listen for the removal of the full notebook cells\n",
              "var notebookContainer = gd.closest('#notebook-container');\n",
              "if (notebookContainer) {{\n",
              "    x.observe(notebookContainer, {childList: true});\n",
              "}}\n",
              "\n",
              "// Listen for the clearing of the current output cell\n",
              "var outputEl = gd.closest('.output');\n",
              "if (outputEl) {{\n",
              "    x.observe(outputEl, {childList: true});\n",
              "}}\n",
              "\n",
              "                        })                };                            </script>        </div>\n",
              "</body>\n",
              "</html>"
            ]
          },
          "metadata": {}
        }
      ],
      "source": [
        "pd.set_option('display.max_rows', None) #show all rows when print\n",
        "\n",
        "stock = input('Enter stock ticker symbol: ')\n",
        "cim = yf.Ticker(stock)\n",
        "price = cim.history(period=\"max\")\n",
        "price.reset_index(inplace=True) #convert index into column\n",
        "\n",
        "price= price.loc[price['Dividends'] !=0] #filter for dates w div pmt\n",
        "\n",
        "#setup graph info\n",
        "from plotly.subplots import make_subplots #to have multiple y axes\n",
        "fig = make_subplots(specs=[[{\"secondary_y\": True}]]) #allow 2ndary axis\n",
        "# Add figure title\n",
        "fig.update_layout(title_text= stock.upper())\n",
        "# Set x-axis title\n",
        "fig.update_xaxes(title_text=\"Pay Date\")\n",
        "# Set y-axes titles\n",
        "fig.update_yaxes(title_text=\"Div PMT\", secondary_y=False)\n",
        "fig.update_yaxes(title_text=\"Div Yield (%)\", secondary_y=True)\n",
        "# Add line graph\n",
        "fig.add_trace(go.Scatter(x=price['Date'], y= price['Dividends'], mode='lines+markers', name='Div PMT'), secondary_y=False)\n",
        "fig.add_trace(go.Scatter(x=price['Date'], y= ((price['Dividends']*4)/ price['Close'])*100, mode='lines+markers', name='Div Yield (%)'), secondary_y=True)\n",
        "# Update format\n",
        "fig.update_layout(width=600, height=400,\n",
        "                  margin=dict(t=40, b=10))\n",
        "\n",
        "fig.show()"
      ]
    },
    {
      "cell_type": "code",
      "source": [],
      "metadata": {
        "id": "6fMc6RR41OHT"
      },
      "execution_count": null,
      "outputs": []
    }
  ]
}