{
  "cells": [
    {
      "cell_type": "code",
      "execution_count": null,
      "metadata": {
        "id": "AK1LuF9HF6nK"
      },
      "outputs": [],
      "source": [
        "!pip install yfinance\n",
        "\n",
        "import yfinance as yf\n",
        "import matplotlib.pyplot as plt\n",
        "import plotly.express as px\n",
        "import pandas as pd\n",
        "import plotly.graph_objects as go"
      ]
    },
    {
      "cell_type": "code",
      "execution_count": 4,
      "metadata": {
        "colab": {
          "base_uri": "https://localhost:8080/",
          "height": 542
        },
        "id": "GQ5wBT_6F6nP",
        "outputId": "78f76942-4e1e-4d60-abfe-a908180a1063"
      },
      "outputs": [
        {
          "output_type": "display_data",
          "data": {
            "text/html": [
              "<html>\n",
              "<head><meta charset=\"utf-8\" /></head>\n",
              "<body>\n",
              "    <div>            <script src=\"https://cdnjs.cloudflare.com/ajax/libs/mathjax/2.7.5/MathJax.js?config=TeX-AMS-MML_SVG\"></script><script type=\"text/javascript\">if (window.MathJax) {MathJax.Hub.Config({SVG: {font: \"STIX-Web\"}});}</script>                <script type=\"text/javascript\">window.PlotlyConfig = {MathJaxConfig: 'local'};</script>\n",
              "        <script src=\"https://cdn.plot.ly/plotly-2.8.3.min.js\"></script>                <div id=\"59935326-6dd7-4db4-a721-89ae87a8d73b\" class=\"plotly-graph-div\" style=\"height:525px; width:100%;\"></div>            <script type=\"text/javascript\">                                    window.PLOTLYENV=window.PLOTLYENV || {};                                    if (document.getElementById(\"59935326-6dd7-4db4-a721-89ae87a8d73b\")) {                    Plotly.newPlot(                        \"59935326-6dd7-4db4-a721-89ae87a8d73b\",                        [{\"mode\":\"lines+markers\",\"name\":\"div\",\"x\":[\"2007-12-27T00:00:00\",\"2008-03-27T00:00:00\",\"2008-06-10T00:00:00\",\"2008-09-16T00:00:00\",\"2008-12-26T00:00:00\",\"2009-04-02T00:00:00\",\"2009-05-28T00:00:00\",\"2009-09-29T00:00:00\",\"2009-12-29T00:00:00\",\"2010-03-25T00:00:00\",\"2010-06-17T00:00:00\",\"2010-09-30T00:00:00\",\"2010-12-29T00:00:00\",\"2011-03-29T00:00:00\",\"2011-06-28T00:00:00\",\"2011-09-29T00:00:00\",\"2011-12-27T00:00:00\",\"2012-03-28T00:00:00\",\"2012-06-27T00:00:00\",\"2012-09-27T00:00:00\",\"2012-12-27T00:00:00\",\"2013-03-27T00:00:00\",\"2013-06-27T00:00:00\",\"2013-10-02T00:00:00\",\"2013-12-27T00:00:00\",\"2014-01-06T00:00:00\",\"2014-03-27T00:00:00\",\"2014-06-26T00:00:00\",\"2014-09-26T00:00:00\",\"2014-12-29T00:00:00\",\"2015-03-27T00:00:00\",\"2015-06-26T00:00:00\",\"2015-09-28T00:00:00\",\"2015-12-29T00:00:00\",\"2016-03-15T00:00:00\",\"2016-03-29T00:00:00\",\"2016-06-28T00:00:00\",\"2016-09-28T00:00:00\",\"2016-12-28T00:00:00\",\"2017-03-29T00:00:00\",\"2017-06-28T00:00:00\",\"2017-09-27T00:00:00\",\"2017-12-28T00:00:00\",\"2018-03-28T00:00:00\",\"2018-06-28T00:00:00\",\"2018-09-27T00:00:00\",\"2018-12-28T00:00:00\",\"2019-03-28T00:00:00\",\"2019-06-27T00:00:00\",\"2019-09-26T00:00:00\",\"2019-12-30T00:00:00\",\"2020-03-30T00:00:00\",\"2020-06-19T00:00:00\",\"2020-09-28T00:00:00\",\"2020-12-29T00:00:00\",\"2021-03-30T00:00:00\",\"2021-06-29T00:00:00\",\"2021-09-29T00:00:00\",\"2021-12-29T00:00:00\",\"2022-03-30T00:00:00\",\"2022-06-29T00:00:00\"],\"y\":[0.125,1.3,0.8,0.8,0.2,0.3,0.4,0.6,0.85,0.85,0.85,0.9,0.85,0.7,0.65,0.65,0.55,0.55,0.45,0.45,0.45,0.45,0.45,0.45,0.45,1.0,0.45,0.45,0.45,0.45,0.48,0.48,0.48,0.48,0.5,0.48,0.48,0.48,0.5,0.5,0.5,0.5,0.5,0.5,0.5,0.5,0.5,0.5,0.5,0.5,0.5,0.5,0.3,0.3,0.3,0.3,0.33,0.33,0.33,0.33,0.33],\"type\":\"scatter\",\"xaxis\":\"x\",\"yaxis\":\"y\"},{\"mode\":\"lines+markers\",\"name\":\"div %\",\"x\":[\"2007-12-27T00:00:00\",\"2008-03-27T00:00:00\",\"2008-06-10T00:00:00\",\"2008-09-16T00:00:00\",\"2008-12-26T00:00:00\",\"2009-04-02T00:00:00\",\"2009-05-28T00:00:00\",\"2009-09-29T00:00:00\",\"2009-12-29T00:00:00\",\"2010-03-25T00:00:00\",\"2010-06-17T00:00:00\",\"2010-09-30T00:00:00\",\"2010-12-29T00:00:00\",\"2011-03-29T00:00:00\",\"2011-06-28T00:00:00\",\"2011-09-29T00:00:00\",\"2011-12-27T00:00:00\",\"2012-03-28T00:00:00\",\"2012-06-27T00:00:00\",\"2012-09-27T00:00:00\",\"2012-12-27T00:00:00\",\"2013-03-27T00:00:00\",\"2013-06-27T00:00:00\",\"2013-10-02T00:00:00\",\"2013-12-27T00:00:00\",\"2014-01-06T00:00:00\",\"2014-03-27T00:00:00\",\"2014-06-26T00:00:00\",\"2014-09-26T00:00:00\",\"2014-12-29T00:00:00\",\"2015-03-27T00:00:00\",\"2015-06-26T00:00:00\",\"2015-09-28T00:00:00\",\"2015-12-29T00:00:00\",\"2016-03-15T00:00:00\",\"2016-03-29T00:00:00\",\"2016-06-28T00:00:00\",\"2016-09-28T00:00:00\",\"2016-12-28T00:00:00\",\"2017-03-29T00:00:00\",\"2017-06-28T00:00:00\",\"2017-09-27T00:00:00\",\"2017-12-28T00:00:00\",\"2018-03-28T00:00:00\",\"2018-06-28T00:00:00\",\"2018-09-27T00:00:00\",\"2018-12-28T00:00:00\",\"2019-03-28T00:00:00\",\"2019-06-27T00:00:00\",\"2019-09-26T00:00:00\",\"2019-12-30T00:00:00\",\"2020-03-30T00:00:00\",\"2020-06-19T00:00:00\",\"2020-09-28T00:00:00\",\"2020-12-29T00:00:00\",\"2021-03-30T00:00:00\",\"2021-06-29T00:00:00\",\"2021-09-29T00:00:00\",\"2021-12-29T00:00:00\",\"2022-03-30T00:00:00\",\"2022-06-29T00:00:00\"],\"y\":[3.702566969408879,51.055672417917904,32.499268499835296,60.50803081660987,30.398551643714793,38.36876858581223,54.46471663827464,71.4544471874091,90.64595979477293,86.19415670682838,84.0399621141582,84.04647803407926,72.88096062855145,59.59177377307648,63.01630224367635,71.17048705085224,63.29815834834706,56.06632928931351,52.93291989585818,44.69261403480316,44.833569840807584,35.52870029215452,37.08850133464125,35.76006852521676,34.180747870830295,72.05495845286507,31.68880102099279,29.25324541721911,29.065134645376162,26.978377053703923,28.81335320376336,31.80571157025211,31.66133482943392,29.641375248819212,30.615013524665493,28.46985574138022,24.161617349614247,22.207626567579094,21.494601884151777,17.6940569152171,18.302886008427272,17.820002637543116,17.52228895861647,18.461418739508368,16.901734458099714,16.718347355292543,16.187032895733655,15.209708326932954,14.883575160297333,13.861342816263406,12.92588856115271,24.6239512976598,14.500488500362657,16.648895195245817,13.705505266466817,10.696727091455148,9.892785677063362,9.563413009767997,9.281553028265908,11.308372108527406,14.999999674883762],\"type\":\"scatter\",\"xaxis\":\"x\",\"yaxis\":\"y2\"}],                        {\"template\":{\"data\":{\"bar\":[{\"error_x\":{\"color\":\"#2a3f5f\"},\"error_y\":{\"color\":\"#2a3f5f\"},\"marker\":{\"line\":{\"color\":\"#E5ECF6\",\"width\":0.5},\"pattern\":{\"fillmode\":\"overlay\",\"size\":10,\"solidity\":0.2}},\"type\":\"bar\"}],\"barpolar\":[{\"marker\":{\"line\":{\"color\":\"#E5ECF6\",\"width\":0.5},\"pattern\":{\"fillmode\":\"overlay\",\"size\":10,\"solidity\":0.2}},\"type\":\"barpolar\"}],\"carpet\":[{\"aaxis\":{\"endlinecolor\":\"#2a3f5f\",\"gridcolor\":\"white\",\"linecolor\":\"white\",\"minorgridcolor\":\"white\",\"startlinecolor\":\"#2a3f5f\"},\"baxis\":{\"endlinecolor\":\"#2a3f5f\",\"gridcolor\":\"white\",\"linecolor\":\"white\",\"minorgridcolor\":\"white\",\"startlinecolor\":\"#2a3f5f\"},\"type\":\"carpet\"}],\"choropleth\":[{\"colorbar\":{\"outlinewidth\":0,\"ticks\":\"\"},\"type\":\"choropleth\"}],\"contour\":[{\"colorbar\":{\"outlinewidth\":0,\"ticks\":\"\"},\"colorscale\":[[0.0,\"#0d0887\"],[0.1111111111111111,\"#46039f\"],[0.2222222222222222,\"#7201a8\"],[0.3333333333333333,\"#9c179e\"],[0.4444444444444444,\"#bd3786\"],[0.5555555555555556,\"#d8576b\"],[0.6666666666666666,\"#ed7953\"],[0.7777777777777778,\"#fb9f3a\"],[0.8888888888888888,\"#fdca26\"],[1.0,\"#f0f921\"]],\"type\":\"contour\"}],\"contourcarpet\":[{\"colorbar\":{\"outlinewidth\":0,\"ticks\":\"\"},\"type\":\"contourcarpet\"}],\"heatmap\":[{\"colorbar\":{\"outlinewidth\":0,\"ticks\":\"\"},\"colorscale\":[[0.0,\"#0d0887\"],[0.1111111111111111,\"#46039f\"],[0.2222222222222222,\"#7201a8\"],[0.3333333333333333,\"#9c179e\"],[0.4444444444444444,\"#bd3786\"],[0.5555555555555556,\"#d8576b\"],[0.6666666666666666,\"#ed7953\"],[0.7777777777777778,\"#fb9f3a\"],[0.8888888888888888,\"#fdca26\"],[1.0,\"#f0f921\"]],\"type\":\"heatmap\"}],\"heatmapgl\":[{\"colorbar\":{\"outlinewidth\":0,\"ticks\":\"\"},\"colorscale\":[[0.0,\"#0d0887\"],[0.1111111111111111,\"#46039f\"],[0.2222222222222222,\"#7201a8\"],[0.3333333333333333,\"#9c179e\"],[0.4444444444444444,\"#bd3786\"],[0.5555555555555556,\"#d8576b\"],[0.6666666666666666,\"#ed7953\"],[0.7777777777777778,\"#fb9f3a\"],[0.8888888888888888,\"#fdca26\"],[1.0,\"#f0f921\"]],\"type\":\"heatmapgl\"}],\"histogram\":[{\"marker\":{\"pattern\":{\"fillmode\":\"overlay\",\"size\":10,\"solidity\":0.2}},\"type\":\"histogram\"}],\"histogram2d\":[{\"colorbar\":{\"outlinewidth\":0,\"ticks\":\"\"},\"colorscale\":[[0.0,\"#0d0887\"],[0.1111111111111111,\"#46039f\"],[0.2222222222222222,\"#7201a8\"],[0.3333333333333333,\"#9c179e\"],[0.4444444444444444,\"#bd3786\"],[0.5555555555555556,\"#d8576b\"],[0.6666666666666666,\"#ed7953\"],[0.7777777777777778,\"#fb9f3a\"],[0.8888888888888888,\"#fdca26\"],[1.0,\"#f0f921\"]],\"type\":\"histogram2d\"}],\"histogram2dcontour\":[{\"colorbar\":{\"outlinewidth\":0,\"ticks\":\"\"},\"colorscale\":[[0.0,\"#0d0887\"],[0.1111111111111111,\"#46039f\"],[0.2222222222222222,\"#7201a8\"],[0.3333333333333333,\"#9c179e\"],[0.4444444444444444,\"#bd3786\"],[0.5555555555555556,\"#d8576b\"],[0.6666666666666666,\"#ed7953\"],[0.7777777777777778,\"#fb9f3a\"],[0.8888888888888888,\"#fdca26\"],[1.0,\"#f0f921\"]],\"type\":\"histogram2dcontour\"}],\"mesh3d\":[{\"colorbar\":{\"outlinewidth\":0,\"ticks\":\"\"},\"type\":\"mesh3d\"}],\"parcoords\":[{\"line\":{\"colorbar\":{\"outlinewidth\":0,\"ticks\":\"\"}},\"type\":\"parcoords\"}],\"pie\":[{\"automargin\":true,\"type\":\"pie\"}],\"scatter\":[{\"marker\":{\"colorbar\":{\"outlinewidth\":0,\"ticks\":\"\"}},\"type\":\"scatter\"}],\"scatter3d\":[{\"line\":{\"colorbar\":{\"outlinewidth\":0,\"ticks\":\"\"}},\"marker\":{\"colorbar\":{\"outlinewidth\":0,\"ticks\":\"\"}},\"type\":\"scatter3d\"}],\"scattercarpet\":[{\"marker\":{\"colorbar\":{\"outlinewidth\":0,\"ticks\":\"\"}},\"type\":\"scattercarpet\"}],\"scattergeo\":[{\"marker\":{\"colorbar\":{\"outlinewidth\":0,\"ticks\":\"\"}},\"type\":\"scattergeo\"}],\"scattergl\":[{\"marker\":{\"colorbar\":{\"outlinewidth\":0,\"ticks\":\"\"}},\"type\":\"scattergl\"}],\"scattermapbox\":[{\"marker\":{\"colorbar\":{\"outlinewidth\":0,\"ticks\":\"\"}},\"type\":\"scattermapbox\"}],\"scatterpolar\":[{\"marker\":{\"colorbar\":{\"outlinewidth\":0,\"ticks\":\"\"}},\"type\":\"scatterpolar\"}],\"scatterpolargl\":[{\"marker\":{\"colorbar\":{\"outlinewidth\":0,\"ticks\":\"\"}},\"type\":\"scatterpolargl\"}],\"scatterternary\":[{\"marker\":{\"colorbar\":{\"outlinewidth\":0,\"ticks\":\"\"}},\"type\":\"scatterternary\"}],\"surface\":[{\"colorbar\":{\"outlinewidth\":0,\"ticks\":\"\"},\"colorscale\":[[0.0,\"#0d0887\"],[0.1111111111111111,\"#46039f\"],[0.2222222222222222,\"#7201a8\"],[0.3333333333333333,\"#9c179e\"],[0.4444444444444444,\"#bd3786\"],[0.5555555555555556,\"#d8576b\"],[0.6666666666666666,\"#ed7953\"],[0.7777777777777778,\"#fb9f3a\"],[0.8888888888888888,\"#fdca26\"],[1.0,\"#f0f921\"]],\"type\":\"surface\"}],\"table\":[{\"cells\":{\"fill\":{\"color\":\"#EBF0F8\"},\"line\":{\"color\":\"white\"}},\"header\":{\"fill\":{\"color\":\"#C8D4E3\"},\"line\":{\"color\":\"white\"}},\"type\":\"table\"}]},\"layout\":{\"annotationdefaults\":{\"arrowcolor\":\"#2a3f5f\",\"arrowhead\":0,\"arrowwidth\":1},\"autotypenumbers\":\"strict\",\"coloraxis\":{\"colorbar\":{\"outlinewidth\":0,\"ticks\":\"\"}},\"colorscale\":{\"diverging\":[[0,\"#8e0152\"],[0.1,\"#c51b7d\"],[0.2,\"#de77ae\"],[0.3,\"#f1b6da\"],[0.4,\"#fde0ef\"],[0.5,\"#f7f7f7\"],[0.6,\"#e6f5d0\"],[0.7,\"#b8e186\"],[0.8,\"#7fbc41\"],[0.9,\"#4d9221\"],[1,\"#276419\"]],\"sequential\":[[0.0,\"#0d0887\"],[0.1111111111111111,\"#46039f\"],[0.2222222222222222,\"#7201a8\"],[0.3333333333333333,\"#9c179e\"],[0.4444444444444444,\"#bd3786\"],[0.5555555555555556,\"#d8576b\"],[0.6666666666666666,\"#ed7953\"],[0.7777777777777778,\"#fb9f3a\"],[0.8888888888888888,\"#fdca26\"],[1.0,\"#f0f921\"]],\"sequentialminus\":[[0.0,\"#0d0887\"],[0.1111111111111111,\"#46039f\"],[0.2222222222222222,\"#7201a8\"],[0.3333333333333333,\"#9c179e\"],[0.4444444444444444,\"#bd3786\"],[0.5555555555555556,\"#d8576b\"],[0.6666666666666666,\"#ed7953\"],[0.7777777777777778,\"#fb9f3a\"],[0.8888888888888888,\"#fdca26\"],[1.0,\"#f0f921\"]]},\"colorway\":[\"#636efa\",\"#EF553B\",\"#00cc96\",\"#ab63fa\",\"#FFA15A\",\"#19d3f3\",\"#FF6692\",\"#B6E880\",\"#FF97FF\",\"#FECB52\"],\"font\":{\"color\":\"#2a3f5f\"},\"geo\":{\"bgcolor\":\"white\",\"lakecolor\":\"white\",\"landcolor\":\"#E5ECF6\",\"showlakes\":true,\"showland\":true,\"subunitcolor\":\"white\"},\"hoverlabel\":{\"align\":\"left\"},\"hovermode\":\"closest\",\"mapbox\":{\"style\":\"light\"},\"paper_bgcolor\":\"white\",\"plot_bgcolor\":\"#E5ECF6\",\"polar\":{\"angularaxis\":{\"gridcolor\":\"white\",\"linecolor\":\"white\",\"ticks\":\"\"},\"bgcolor\":\"#E5ECF6\",\"radialaxis\":{\"gridcolor\":\"white\",\"linecolor\":\"white\",\"ticks\":\"\"}},\"scene\":{\"xaxis\":{\"backgroundcolor\":\"#E5ECF6\",\"gridcolor\":\"white\",\"gridwidth\":2,\"linecolor\":\"white\",\"showbackground\":true,\"ticks\":\"\",\"zerolinecolor\":\"white\"},\"yaxis\":{\"backgroundcolor\":\"#E5ECF6\",\"gridcolor\":\"white\",\"gridwidth\":2,\"linecolor\":\"white\",\"showbackground\":true,\"ticks\":\"\",\"zerolinecolor\":\"white\"},\"zaxis\":{\"backgroundcolor\":\"#E5ECF6\",\"gridcolor\":\"white\",\"gridwidth\":2,\"linecolor\":\"white\",\"showbackground\":true,\"ticks\":\"\",\"zerolinecolor\":\"white\"}},\"shapedefaults\":{\"line\":{\"color\":\"#2a3f5f\"}},\"ternary\":{\"aaxis\":{\"gridcolor\":\"white\",\"linecolor\":\"white\",\"ticks\":\"\"},\"baxis\":{\"gridcolor\":\"white\",\"linecolor\":\"white\",\"ticks\":\"\"},\"bgcolor\":\"#E5ECF6\",\"caxis\":{\"gridcolor\":\"white\",\"linecolor\":\"white\",\"ticks\":\"\"}},\"title\":{\"x\":0.05},\"xaxis\":{\"automargin\":true,\"gridcolor\":\"white\",\"linecolor\":\"white\",\"ticks\":\"\",\"title\":{\"standoff\":15},\"zerolinecolor\":\"white\",\"zerolinewidth\":2},\"yaxis\":{\"automargin\":true,\"gridcolor\":\"white\",\"linecolor\":\"white\",\"ticks\":\"\",\"title\":{\"standoff\":15},\"zerolinecolor\":\"white\",\"zerolinewidth\":2}}},\"xaxis\":{\"anchor\":\"y\",\"domain\":[0.0,0.94]},\"yaxis\":{\"anchor\":\"x\",\"domain\":[0.0,1.0]},\"yaxis2\":{\"anchor\":\"x\",\"overlaying\":\"y\",\"side\":\"right\"}},                        {\"responsive\": true}                    ).then(function(){\n",
              "                            \n",
              "var gd = document.getElementById('59935326-6dd7-4db4-a721-89ae87a8d73b');\n",
              "var x = new MutationObserver(function (mutations, observer) {{\n",
              "        var display = window.getComputedStyle(gd).display;\n",
              "        if (!display || display === 'none') {{\n",
              "            console.log([gd, 'removed!']);\n",
              "            Plotly.purge(gd);\n",
              "            observer.disconnect();\n",
              "        }}\n",
              "}});\n",
              "\n",
              "// Listen for the removal of the full notebook cells\n",
              "var notebookContainer = gd.closest('#notebook-container');\n",
              "if (notebookContainer) {{\n",
              "    x.observe(notebookContainer, {childList: true});\n",
              "}}\n",
              "\n",
              "// Listen for the clearing of the current output cell\n",
              "var outputEl = gd.closest('.output');\n",
              "if (outputEl) {{\n",
              "    x.observe(outputEl, {childList: true});\n",
              "}}\n",
              "\n",
              "                        })                };                            </script>        </div>\n",
              "</body>\n",
              "</html>"
            ]
          },
          "metadata": {}
        }
      ],
      "source": [
        "pd.set_option('display.max_rows', None) #show all rows when print\n",
        "\n",
        "cim= yf.Ticker(\"CIM\")\n",
        "price= cim.history(period=\"max\")\n",
        "price.reset_index(inplace=True) #convert index into column\n",
        "\n",
        "price= price.loc[price['Dividends'] !=0] #filter for dates w div pmt\n",
        "\n",
        "from plotly.subplots import make_subplots #to have multiple y axes\n",
        "fig= make_subplots(specs=[[{\"secondary_y\": True}]]) #allow 2ndary axis\n",
        "fig.add_trace(go.Scatter(x=price['Date'], y= price['Dividends'], mode='lines+markers', name='div'), secondary_y=False)\n",
        "fig.add_trace(go.Scatter(x=price['Date'], y= ((price['Dividends']*4)/ price['Close'])*100, mode='lines+markers', name='div %'), secondary_y=True)\n",
        "\n",
        "# fig.show()"
      ]
    },
    {
      "cell_type": "code",
      "source": [
        "#"
      ],
      "metadata": {
        "id": "24awm1f0GwnM"
      },
      "execution_count": null,
      "outputs": []
    }
  ],
  "metadata": {
    "kernelspec": {
      "display_name": "Python 3",
      "language": "python",
      "name": "python3"
    },
    "language_info": {
      "codemirror_mode": {
        "name": "ipython",
        "version": 3
      },
      "file_extension": ".py",
      "mimetype": "text/x-python",
      "name": "python",
      "nbconvert_exporter": "python",
      "pygments_lexer": "ipython3",
      "version": "3.8.5"
    },
    "colab": {
      "name": "yahoo finance.ipynb",
      "provenance": []
    }
  },
  "nbformat": 4,
  "nbformat_minor": 0
}