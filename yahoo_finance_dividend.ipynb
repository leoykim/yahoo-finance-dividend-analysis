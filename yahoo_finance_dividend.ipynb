{
  "nbformat": 4,
  "nbformat_minor": 0,
  "metadata": {
    "colab": {
      "name": "yahoo finance-dividend.ipynb",
      "provenance": []
    },
    "kernelspec": {
      "name": "python3",
      "display_name": "Python 3"
    },
    "language_info": {
      "name": "python"
    }
  },
  "cells": [
    {
      "cell_type": "code",
      "execution_count": 2,
      "metadata": {
        "colab": {
          "base_uri": "https://localhost:8080/",
          "height": 542
        },
        "id": "XLX2wIdVKcRx",
        "outputId": "b482e565-e30d-4fed-c649-57335e8db76e"
      },
      "outputs": [
        {
          "output_type": "display_data",
          "data": {
            "text/html": [
              "<html>\n",
              "<head><meta charset=\"utf-8\" /></head>\n",
              "<body>\n",
              "    <div>            <script src=\"https://cdnjs.cloudflare.com/ajax/libs/mathjax/2.7.5/MathJax.js?config=TeX-AMS-MML_SVG\"></script><script type=\"text/javascript\">if (window.MathJax) {MathJax.Hub.Config({SVG: {font: \"STIX-Web\"}});}</script>                <script type=\"text/javascript\">window.PlotlyConfig = {MathJaxConfig: 'local'};</script>\n",
              "        <script src=\"https://cdn.plot.ly/plotly-2.8.3.min.js\"></script>                <div id=\"ced686d5-ad51-4604-84d2-c79e0c723e9f\" class=\"plotly-graph-div\" style=\"height:525px; width:100%;\"></div>            <script type=\"text/javascript\">                                    window.PLOTLYENV=window.PLOTLYENV || {};                                    if (document.getElementById(\"ced686d5-ad51-4604-84d2-c79e0c723e9f\")) {                    Plotly.newPlot(                        \"ced686d5-ad51-4604-84d2-c79e0c723e9f\",                        [{\"mode\":\"lines+markers\",\"name\":\"div\",\"x\":[\"2005-09-13T00:00:00\",\"2005-12-13T00:00:00\",\"2006-03-13T00:00:00\",\"2006-06-13T00:00:00\",\"2006-09-12T00:00:00\",\"2006-12-12T00:00:00\",\"2007-03-27T00:00:00\",\"2007-06-12T00:00:00\",\"2007-09-12T00:00:00\",\"2007-12-11T00:00:00\",\"2008-03-11T00:00:00\",\"2008-06-11T00:00:00\",\"2008-09-16T00:00:00\",\"2008-12-19T00:00:00\",\"2009-03-17T00:00:00\",\"2009-06-09T00:00:00\",\"2009-09-15T00:00:00\",\"2009-12-15T00:00:00\",\"2010-03-16T00:00:00\",\"2010-06-15T00:00:00\",\"2010-09-10T00:00:00\",\"2010-12-07T00:00:00\",\"2011-03-15T00:00:00\",\"2011-06-14T00:00:00\",\"2011-09-13T00:00:00\",\"2011-12-06T00:00:00\",\"2012-03-13T00:00:00\",\"2012-06-12T00:00:00\",\"2012-09-11T00:00:00\",\"2012-11-20T00:00:00\",\"2013-03-12T00:00:00\",\"2013-06-11T00:00:00\",\"2013-09-10T00:00:00\",\"2013-11-29T00:00:00\",\"2014-03-12T00:00:00\",\"2014-06-10T00:00:00\",\"2014-09-16T00:00:00\",\"2014-12-02T00:00:00\",\"2015-03-10T00:00:00\",\"2015-06-09T00:00:00\",\"2015-09-15T00:00:00\",\"2015-12-08T00:00:00\",\"2016-03-15T00:00:00\",\"2016-06-14T00:00:00\",\"2016-09-13T00:00:00\",\"2016-12-06T00:00:00\",\"2017-03-14T00:00:00\",\"2017-06-13T00:00:00\",\"2017-09-13T00:00:00\",\"2017-12-06T00:00:00\",\"2018-03-14T00:00:00\",\"2018-06-13T00:00:00\",\"2018-09-12T00:00:00\",\"2018-12-12T00:00:00\",\"2019-03-13T00:00:00\",\"2019-06-12T00:00:00\",\"2019-09-11T00:00:00\",\"2019-12-11T00:00:00\",\"2020-03-11T00:00:00\",\"2020-06-17T00:00:00\",\"2020-09-09T00:00:00\",\"2020-12-09T00:00:00\",\"2021-03-17T00:00:00\",\"2021-06-16T00:00:00\",\"2021-09-15T00:00:00\",\"2021-12-08T00:00:00\",\"2022-03-16T00:00:00\",\"2022-06-15T00:00:00\"],\"y\":[0.17,0.18,0.21,0.25,0.26,0.27,0.27,0.27,0.27,0.27,0.27,0.27,0.27,0.2,0.2,0.2,0.2,0.2,0.2,0.2,0.2,0.2,0.2,0.2,0.2,0.2,0.2,0.2,0.2,0.2,0.2,0.2,0.2,0.21,0.21,0.21,0.21,0.21,0.22,0.22,0.22,0.22,0.22,0.23,0.23,0.23,0.24,0.24,0.24,0.24,0.25,0.25,0.25,0.25,0.25,0.25,0.26,0.26,0.27,0.27,0.27,0.27,0.28,0.28,0.28,0.28,0.29,0.29],\"type\":\"scatter\",\"xaxis\":\"x\",\"yaxis\":\"y\"},{\"mode\":\"lines+markers\",\"name\":\"div %\",\"x\":[\"2005-09-13T00:00:00\",\"2005-12-13T00:00:00\",\"2006-03-13T00:00:00\",\"2006-06-13T00:00:00\",\"2006-09-12T00:00:00\",\"2006-12-12T00:00:00\",\"2007-03-27T00:00:00\",\"2007-06-12T00:00:00\",\"2007-09-12T00:00:00\",\"2007-12-11T00:00:00\",\"2008-03-11T00:00:00\",\"2008-06-11T00:00:00\",\"2008-09-16T00:00:00\",\"2008-12-19T00:00:00\",\"2009-03-17T00:00:00\",\"2009-06-09T00:00:00\",\"2009-09-15T00:00:00\",\"2009-12-15T00:00:00\",\"2010-03-16T00:00:00\",\"2010-06-15T00:00:00\",\"2010-09-10T00:00:00\",\"2010-12-07T00:00:00\",\"2011-03-15T00:00:00\",\"2011-06-14T00:00:00\",\"2011-09-13T00:00:00\",\"2011-12-06T00:00:00\",\"2012-03-13T00:00:00\",\"2012-06-12T00:00:00\",\"2012-09-11T00:00:00\",\"2012-11-20T00:00:00\",\"2013-03-12T00:00:00\",\"2013-06-11T00:00:00\",\"2013-09-10T00:00:00\",\"2013-11-29T00:00:00\",\"2014-03-12T00:00:00\",\"2014-06-10T00:00:00\",\"2014-09-16T00:00:00\",\"2014-12-02T00:00:00\",\"2015-03-10T00:00:00\",\"2015-06-09T00:00:00\",\"2015-09-15T00:00:00\",\"2015-12-08T00:00:00\",\"2016-03-15T00:00:00\",\"2016-06-14T00:00:00\",\"2016-09-13T00:00:00\",\"2016-12-06T00:00:00\",\"2017-03-14T00:00:00\",\"2017-06-13T00:00:00\",\"2017-09-13T00:00:00\",\"2017-12-06T00:00:00\",\"2018-03-14T00:00:00\",\"2018-06-13T00:00:00\",\"2018-09-12T00:00:00\",\"2018-12-12T00:00:00\",\"2019-03-13T00:00:00\",\"2019-06-12T00:00:00\",\"2019-09-11T00:00:00\",\"2019-12-11T00:00:00\",\"2020-03-11T00:00:00\",\"2020-06-17T00:00:00\",\"2020-09-09T00:00:00\",\"2020-12-09T00:00:00\",\"2021-03-17T00:00:00\",\"2021-06-16T00:00:00\",\"2021-09-15T00:00:00\",\"2021-12-08T00:00:00\",\"2022-03-16T00:00:00\",\"2022-06-15T00:00:00\"],\"y\":[22.419209107139647,26.40589315328225,27.99278540586859,28.091786373497367,24.855893946390616,22.348711768238964,22.334470736672703,24.676647842420657,23.874213152317523,27.43446860925359,25.609798309018288,24.984985451412175,27.09730645549441,31.354414982870416,48.61451643457087,29.821461915379917,23.93552144296651,18.524345172221636,16.166238867967365,18.09246199898588,17.405365186356494,16.413062661345265,15.07820397598591,14.25068740397983,16.00309660749594,16.757643072890865,16.099507242621836,17.076641242880925,14.104646436283371,12.677707976682145,9.630868715332017,9.497105392907464,11.645683950743772,10.898934048558326,11.101313983756835,10.566655293885619,10.548452340526461,9.894401094220731,9.987199024687596,10.50861504355894,12.288517658170171,11.661263017311931,10.734534046357755,9.043431046281627,9.551722966841501,10.675796133654796,10.80681006423969,9.796387211471732,9.723320978184677,9.20920579376025,9.885081179999892,9.203413433359039,8.346411880098973,7.273398216915374,6.564485558176846,6.611067114080843,6.4694811928553975,5.7718097560035835,6.2637250970564216,6.145717146446626,6.51403103117947,5.718006066288073,5.510347339927079,5.6764914718144395,5.807088988800537,5.213298719027419,5.932609820633817,7.738492446377608],\"type\":\"scatter\",\"xaxis\":\"x\",\"yaxis\":\"y2\"}],                        {\"template\":{\"data\":{\"bar\":[{\"error_x\":{\"color\":\"#2a3f5f\"},\"error_y\":{\"color\":\"#2a3f5f\"},\"marker\":{\"line\":{\"color\":\"#E5ECF6\",\"width\":0.5},\"pattern\":{\"fillmode\":\"overlay\",\"size\":10,\"solidity\":0.2}},\"type\":\"bar\"}],\"barpolar\":[{\"marker\":{\"line\":{\"color\":\"#E5ECF6\",\"width\":0.5},\"pattern\":{\"fillmode\":\"overlay\",\"size\":10,\"solidity\":0.2}},\"type\":\"barpolar\"}],\"carpet\":[{\"aaxis\":{\"endlinecolor\":\"#2a3f5f\",\"gridcolor\":\"white\",\"linecolor\":\"white\",\"minorgridcolor\":\"white\",\"startlinecolor\":\"#2a3f5f\"},\"baxis\":{\"endlinecolor\":\"#2a3f5f\",\"gridcolor\":\"white\",\"linecolor\":\"white\",\"minorgridcolor\":\"white\",\"startlinecolor\":\"#2a3f5f\"},\"type\":\"carpet\"}],\"choropleth\":[{\"colorbar\":{\"outlinewidth\":0,\"ticks\":\"\"},\"type\":\"choropleth\"}],\"contour\":[{\"colorbar\":{\"outlinewidth\":0,\"ticks\":\"\"},\"colorscale\":[[0.0,\"#0d0887\"],[0.1111111111111111,\"#46039f\"],[0.2222222222222222,\"#7201a8\"],[0.3333333333333333,\"#9c179e\"],[0.4444444444444444,\"#bd3786\"],[0.5555555555555556,\"#d8576b\"],[0.6666666666666666,\"#ed7953\"],[0.7777777777777778,\"#fb9f3a\"],[0.8888888888888888,\"#fdca26\"],[1.0,\"#f0f921\"]],\"type\":\"contour\"}],\"contourcarpet\":[{\"colorbar\":{\"outlinewidth\":0,\"ticks\":\"\"},\"type\":\"contourcarpet\"}],\"heatmap\":[{\"colorbar\":{\"outlinewidth\":0,\"ticks\":\"\"},\"colorscale\":[[0.0,\"#0d0887\"],[0.1111111111111111,\"#46039f\"],[0.2222222222222222,\"#7201a8\"],[0.3333333333333333,\"#9c179e\"],[0.4444444444444444,\"#bd3786\"],[0.5555555555555556,\"#d8576b\"],[0.6666666666666666,\"#ed7953\"],[0.7777777777777778,\"#fb9f3a\"],[0.8888888888888888,\"#fdca26\"],[1.0,\"#f0f921\"]],\"type\":\"heatmap\"}],\"heatmapgl\":[{\"colorbar\":{\"outlinewidth\":0,\"ticks\":\"\"},\"colorscale\":[[0.0,\"#0d0887\"],[0.1111111111111111,\"#46039f\"],[0.2222222222222222,\"#7201a8\"],[0.3333333333333333,\"#9c179e\"],[0.4444444444444444,\"#bd3786\"],[0.5555555555555556,\"#d8576b\"],[0.6666666666666666,\"#ed7953\"],[0.7777777777777778,\"#fb9f3a\"],[0.8888888888888888,\"#fdca26\"],[1.0,\"#f0f921\"]],\"type\":\"heatmapgl\"}],\"histogram\":[{\"marker\":{\"pattern\":{\"fillmode\":\"overlay\",\"size\":10,\"solidity\":0.2}},\"type\":\"histogram\"}],\"histogram2d\":[{\"colorbar\":{\"outlinewidth\":0,\"ticks\":\"\"},\"colorscale\":[[0.0,\"#0d0887\"],[0.1111111111111111,\"#46039f\"],[0.2222222222222222,\"#7201a8\"],[0.3333333333333333,\"#9c179e\"],[0.4444444444444444,\"#bd3786\"],[0.5555555555555556,\"#d8576b\"],[0.6666666666666666,\"#ed7953\"],[0.7777777777777778,\"#fb9f3a\"],[0.8888888888888888,\"#fdca26\"],[1.0,\"#f0f921\"]],\"type\":\"histogram2d\"}],\"histogram2dcontour\":[{\"colorbar\":{\"outlinewidth\":0,\"ticks\":\"\"},\"colorscale\":[[0.0,\"#0d0887\"],[0.1111111111111111,\"#46039f\"],[0.2222222222222222,\"#7201a8\"],[0.3333333333333333,\"#9c179e\"],[0.4444444444444444,\"#bd3786\"],[0.5555555555555556,\"#d8576b\"],[0.6666666666666666,\"#ed7953\"],[0.7777777777777778,\"#fb9f3a\"],[0.8888888888888888,\"#fdca26\"],[1.0,\"#f0f921\"]],\"type\":\"histogram2dcontour\"}],\"mesh3d\":[{\"colorbar\":{\"outlinewidth\":0,\"ticks\":\"\"},\"type\":\"mesh3d\"}],\"parcoords\":[{\"line\":{\"colorbar\":{\"outlinewidth\":0,\"ticks\":\"\"}},\"type\":\"parcoords\"}],\"pie\":[{\"automargin\":true,\"type\":\"pie\"}],\"scatter\":[{\"marker\":{\"colorbar\":{\"outlinewidth\":0,\"ticks\":\"\"}},\"type\":\"scatter\"}],\"scatter3d\":[{\"line\":{\"colorbar\":{\"outlinewidth\":0,\"ticks\":\"\"}},\"marker\":{\"colorbar\":{\"outlinewidth\":0,\"ticks\":\"\"}},\"type\":\"scatter3d\"}],\"scattercarpet\":[{\"marker\":{\"colorbar\":{\"outlinewidth\":0,\"ticks\":\"\"}},\"type\":\"scattercarpet\"}],\"scattergeo\":[{\"marker\":{\"colorbar\":{\"outlinewidth\":0,\"ticks\":\"\"}},\"type\":\"scattergeo\"}],\"scattergl\":[{\"marker\":{\"colorbar\":{\"outlinewidth\":0,\"ticks\":\"\"}},\"type\":\"scattergl\"}],\"scattermapbox\":[{\"marker\":{\"colorbar\":{\"outlinewidth\":0,\"ticks\":\"\"}},\"type\":\"scattermapbox\"}],\"scatterpolar\":[{\"marker\":{\"colorbar\":{\"outlinewidth\":0,\"ticks\":\"\"}},\"type\":\"scatterpolar\"}],\"scatterpolargl\":[{\"marker\":{\"colorbar\":{\"outlinewidth\":0,\"ticks\":\"\"}},\"type\":\"scatterpolargl\"}],\"scatterternary\":[{\"marker\":{\"colorbar\":{\"outlinewidth\":0,\"ticks\":\"\"}},\"type\":\"scatterternary\"}],\"surface\":[{\"colorbar\":{\"outlinewidth\":0,\"ticks\":\"\"},\"colorscale\":[[0.0,\"#0d0887\"],[0.1111111111111111,\"#46039f\"],[0.2222222222222222,\"#7201a8\"],[0.3333333333333333,\"#9c179e\"],[0.4444444444444444,\"#bd3786\"],[0.5555555555555556,\"#d8576b\"],[0.6666666666666666,\"#ed7953\"],[0.7777777777777778,\"#fb9f3a\"],[0.8888888888888888,\"#fdca26\"],[1.0,\"#f0f921\"]],\"type\":\"surface\"}],\"table\":[{\"cells\":{\"fill\":{\"color\":\"#EBF0F8\"},\"line\":{\"color\":\"white\"}},\"header\":{\"fill\":{\"color\":\"#C8D4E3\"},\"line\":{\"color\":\"white\"}},\"type\":\"table\"}]},\"layout\":{\"annotationdefaults\":{\"arrowcolor\":\"#2a3f5f\",\"arrowhead\":0,\"arrowwidth\":1},\"autotypenumbers\":\"strict\",\"coloraxis\":{\"colorbar\":{\"outlinewidth\":0,\"ticks\":\"\"}},\"colorscale\":{\"diverging\":[[0,\"#8e0152\"],[0.1,\"#c51b7d\"],[0.2,\"#de77ae\"],[0.3,\"#f1b6da\"],[0.4,\"#fde0ef\"],[0.5,\"#f7f7f7\"],[0.6,\"#e6f5d0\"],[0.7,\"#b8e186\"],[0.8,\"#7fbc41\"],[0.9,\"#4d9221\"],[1,\"#276419\"]],\"sequential\":[[0.0,\"#0d0887\"],[0.1111111111111111,\"#46039f\"],[0.2222222222222222,\"#7201a8\"],[0.3333333333333333,\"#9c179e\"],[0.4444444444444444,\"#bd3786\"],[0.5555555555555556,\"#d8576b\"],[0.6666666666666666,\"#ed7953\"],[0.7777777777777778,\"#fb9f3a\"],[0.8888888888888888,\"#fdca26\"],[1.0,\"#f0f921\"]],\"sequentialminus\":[[0.0,\"#0d0887\"],[0.1111111111111111,\"#46039f\"],[0.2222222222222222,\"#7201a8\"],[0.3333333333333333,\"#9c179e\"],[0.4444444444444444,\"#bd3786\"],[0.5555555555555556,\"#d8576b\"],[0.6666666666666666,\"#ed7953\"],[0.7777777777777778,\"#fb9f3a\"],[0.8888888888888888,\"#fdca26\"],[1.0,\"#f0f921\"]]},\"colorway\":[\"#636efa\",\"#EF553B\",\"#00cc96\",\"#ab63fa\",\"#FFA15A\",\"#19d3f3\",\"#FF6692\",\"#B6E880\",\"#FF97FF\",\"#FECB52\"],\"font\":{\"color\":\"#2a3f5f\"},\"geo\":{\"bgcolor\":\"white\",\"lakecolor\":\"white\",\"landcolor\":\"#E5ECF6\",\"showlakes\":true,\"showland\":true,\"subunitcolor\":\"white\"},\"hoverlabel\":{\"align\":\"left\"},\"hovermode\":\"closest\",\"mapbox\":{\"style\":\"light\"},\"paper_bgcolor\":\"white\",\"plot_bgcolor\":\"#E5ECF6\",\"polar\":{\"angularaxis\":{\"gridcolor\":\"white\",\"linecolor\":\"white\",\"ticks\":\"\"},\"bgcolor\":\"#E5ECF6\",\"radialaxis\":{\"gridcolor\":\"white\",\"linecolor\":\"white\",\"ticks\":\"\"}},\"scene\":{\"xaxis\":{\"backgroundcolor\":\"#E5ECF6\",\"gridcolor\":\"white\",\"gridwidth\":2,\"linecolor\":\"white\",\"showbackground\":true,\"ticks\":\"\",\"zerolinecolor\":\"white\"},\"yaxis\":{\"backgroundcolor\":\"#E5ECF6\",\"gridcolor\":\"white\",\"gridwidth\":2,\"linecolor\":\"white\",\"showbackground\":true,\"ticks\":\"\",\"zerolinecolor\":\"white\"},\"zaxis\":{\"backgroundcolor\":\"#E5ECF6\",\"gridcolor\":\"white\",\"gridwidth\":2,\"linecolor\":\"white\",\"showbackground\":true,\"ticks\":\"\",\"zerolinecolor\":\"white\"}},\"shapedefaults\":{\"line\":{\"color\":\"#2a3f5f\"}},\"ternary\":{\"aaxis\":{\"gridcolor\":\"white\",\"linecolor\":\"white\",\"ticks\":\"\"},\"baxis\":{\"gridcolor\":\"white\",\"linecolor\":\"white\",\"ticks\":\"\"},\"bgcolor\":\"#E5ECF6\",\"caxis\":{\"gridcolor\":\"white\",\"linecolor\":\"white\",\"ticks\":\"\"}},\"title\":{\"x\":0.05},\"xaxis\":{\"automargin\":true,\"gridcolor\":\"white\",\"linecolor\":\"white\",\"ticks\":\"\",\"title\":{\"standoff\":15},\"zerolinecolor\":\"white\",\"zerolinewidth\":2},\"yaxis\":{\"automargin\":true,\"gridcolor\":\"white\",\"linecolor\":\"white\",\"ticks\":\"\",\"title\":{\"standoff\":15},\"zerolinecolor\":\"white\",\"zerolinewidth\":2}}},\"xaxis\":{\"anchor\":\"y\",\"domain\":[0.0,0.94],\"title\":{\"text\":\"date\"}},\"yaxis\":{\"anchor\":\"x\",\"domain\":[0.0,1.0],\"title\":{\"text\":\"div pmt\"}},\"yaxis2\":{\"anchor\":\"x\",\"overlaying\":\"y\",\"side\":\"right\",\"title\":{\"text\":\"div %\"}},\"title\":{\"text\":\"mpw\"}},                        {\"responsive\": true}                    ).then(function(){\n",
              "                            \n",
              "var gd = document.getElementById('ced686d5-ad51-4604-84d2-c79e0c723e9f');\n",
              "var x = new MutationObserver(function (mutations, observer) {{\n",
              "        var display = window.getComputedStyle(gd).display;\n",
              "        if (!display || display === 'none') {{\n",
              "            console.log([gd, 'removed!']);\n",
              "            Plotly.purge(gd);\n",
              "            observer.disconnect();\n",
              "        }}\n",
              "}});\n",
              "\n",
              "// Listen for the removal of the full notebook cells\n",
              "var notebookContainer = gd.closest('#notebook-container');\n",
              "if (notebookContainer) {{\n",
              "    x.observe(notebookContainer, {childList: true});\n",
              "}}\n",
              "\n",
              "// Listen for the clearing of the current output cell\n",
              "var outputEl = gd.closest('.output');\n",
              "if (outputEl) {{\n",
              "    x.observe(outputEl, {childList: true});\n",
              "}}\n",
              "\n",
              "                        })                };                            </script>        </div>\n",
              "</body>\n",
              "</html>"
            ]
          },
          "metadata": {}
        }
      ],
      "source": [
        "# !pip install yfinance\n",
        "\n",
        "import yfinance as yf\n",
        "import matplotlib.pyplot as plt\n",
        "import plotly.express as px\n",
        "import pandas as pd\n",
        "import plotly.graph_objects as go\n",
        "\n",
        "\n",
        "pd.set_option('display.max_rows', None) #show all rows when print\n",
        "\n",
        "stock=\"mpw\"\n",
        "cim= yf.Ticker(stock)\n",
        "price= cim.history(period=\"max\")\n",
        "price.reset_index(inplace=True) #convert index into column\n",
        "\n",
        "price= price.loc[price['Dividends'] !=0] #filter for dates w div pmt\n",
        "\n",
        "#setup graph info\n",
        "from plotly.subplots import make_subplots #to have multiple y axes\n",
        "fig= make_subplots(specs=[[{\"secondary_y\": True}]]) #allow 2ndary axis\n",
        "# Add figure title\n",
        "fig.update_layout(title_text=stock)\n",
        "# Set x-axis title\n",
        "fig.update_xaxes(title_text=\"date\")\n",
        "# Set y-axes titles\n",
        "fig.update_yaxes(title_text=\"div pmt\", secondary_y=False)\n",
        "fig.update_yaxes(title_text=\"div %\", secondary_y=True)\n",
        "\n",
        "fig.add_trace(go.Scatter(x=price['Date'], y= price['Dividends'], mode='lines+markers', name='div'), secondary_y=False)\n",
        "fig.add_trace(go.Scatter(x=price['Date'], y= ((price['Dividends']*4)/ price['Close'])*100, mode='lines+markers', name='div %'), secondary_y=True)\n",
        "\n",
        "fig.show()"
      ]
    },
    {
      "cell_type": "code",
      "source": [],
      "metadata": {
        "id": "0ZWiHrWLKdEz"
      },
      "execution_count": null,
      "outputs": []
    }
  ]
}